{
  "nbformat": 4,
  "nbformat_minor": 0,
  "metadata": {
    "colab": {
      "provenance": []
    },
    "kernelspec": {
      "name": "python3",
      "display_name": "Python 3"
    },
    "language_info": {
      "name": "python"
    }
  },
  "cells": [
    {
      "cell_type": "markdown",
      "source": [
        "**DATA UNDERSTANDING AND EXPLORATION**"
      ],
      "metadata": {
        "id": "Yc8gxMu8zhq-"
      }
    },
    {
      "cell_type": "markdown",
      "source": [
        "Loading the Dataset"
      ],
      "metadata": {
        "id": "xCKbAjy9073s"
      }
    },
    {
      "cell_type": "code",
      "source": [
        "import pandas as pd\n",
        "\n",
        "# Load the dataset\n",
        "df = pd.read_csv('Beginner_Reviews_dataset.csv')\n"
      ],
      "metadata": {
        "id": "PFfnIK-Pzmq9"
      },
      "execution_count": 24,
      "outputs": []
    },
    {
      "cell_type": "markdown",
      "source": [
        "Understanding the Structure of the Dataset"
      ],
      "metadata": {
        "id": "w9RYdcxNz1h6"
      }
    },
    {
      "cell_type": "code",
      "source": [
        "# Display the first few rows of the dataset\n",
        "print(df.head())\n",
        "\n",
        "# Display information about the dataset\n",
        "print(df.info())\n",
        "\n",
        "# Display basic statistics of the dataset\n",
        "print(df.describe())"
      ],
      "metadata": {
        "colab": {
          "base_uri": "https://localhost:8080/"
        },
        "id": "alZ7DmL0z5vV",
        "outputId": "c5ce5b7f-3a8c-494b-9883-74403e1debb3"
      },
      "execution_count": 25,
      "outputs": [
        {
          "output_type": "stream",
          "name": "stdout",
          "text": [
            "   Unnamed: 0                                           sentence  label\n",
            "0           0                           Wow... Loved this place.      1\n",
            "1           1                                 Crust is not good.      0\n",
            "2           2          Not tasty and the texture was just nasty.      0\n",
            "3           3  Stopped by during the late May bank holiday of...      1\n",
            "4           4  The selection on the menu was great and so wer...      1\n",
            "<class 'pandas.core.frame.DataFrame'>\n",
            "RangeIndex: 1000 entries, 0 to 999\n",
            "Data columns (total 3 columns):\n",
            " #   Column      Non-Null Count  Dtype \n",
            "---  ------      --------------  ----- \n",
            " 0   Unnamed: 0  1000 non-null   int64 \n",
            " 1   sentence    1000 non-null   object\n",
            " 2   label       1000 non-null   int64 \n",
            "dtypes: int64(2), object(1)\n",
            "memory usage: 23.6+ KB\n",
            "None\n",
            "        Unnamed: 0       label\n",
            "count  1000.000000  1000.00000\n",
            "mean    499.500000     0.50000\n",
            "std     288.819436     0.50025\n",
            "min       0.000000     0.00000\n",
            "25%     249.750000     0.00000\n",
            "50%     499.500000     0.50000\n",
            "75%     749.250000     1.00000\n",
            "max     999.000000     1.00000\n"
          ]
        }
      ]
    },
    {
      "cell_type": "markdown",
      "source": [
        "Exploring the Dataset"
      ],
      "metadata": {
        "id": "WxpWDWTS0BsV"
      }
    },
    {
      "cell_type": "code",
      "source": [
        "import matplotlib.pyplot as plt\n",
        "import seaborn as sns\n",
        "\n",
        "# Display the distribution of the label column\n",
        "print(df['label'].value_counts())\n",
        "\n",
        "# Plot the distribution of the label column\n",
        "sns.countplot(x='label', data=df)\n",
        "plt.title('Distribution of Positive and Negative Reviews')\n",
        "plt.xlabel('Label')\n",
        "plt.ylabel('Count')\n",
        "plt.show()\n"
      ],
      "metadata": {
        "colab": {
          "base_uri": "https://localhost:8080/",
          "height": 541
        },
        "id": "wvqiVG9X0bKp",
        "outputId": "ac58c4e5-0e93-4ac0-e1c3-6d1e62e767a1"
      },
      "execution_count": 26,
      "outputs": [
        {
          "output_type": "stream",
          "name": "stdout",
          "text": [
            "label\n",
            "1    500\n",
            "0    500\n",
            "Name: count, dtype: int64\n"
          ]
        },
        {
          "output_type": "display_data",
          "data": {
            "text/plain": [
              "<Figure size 640x480 with 1 Axes>"
            ],
            "image/png": "[encoded data removed]"
          },
          "metadata": {}
        }
      ]
    },
    {
      "cell_type": "markdown",
      "source": [
        "Checking for Missing Values"
      ],
      "metadata": {
        "id": "1v3alxhq0jIq"
      }
    },
    {
      "cell_type": "code",
      "source": [
        "# Check for missing values\n",
        "print(df.isnull().sum())\n",
        "\n",
        "# Visualize missing values\n",
        "sns.heatmap(df.isnull(), cbar=False, cmap='viridis')\n",
        "plt.title('Heatmap of Missing Values')\n",
        "plt.show()\n"
      ],
      "metadata": {
        "colab": {
          "base_uri": "https://localhost:8080/",
          "height": 521
        },
        "id": "LOFKBE1M0jxV",
        "outputId": "8385574d-c0eb-447b-bb26-1764d56fe685"
      },
      "execution_count": 27,
      "outputs": [
        {
          "output_type": "stream",
          "name": "stdout",
          "text": [
            "Unnamed: 0    0\n",
            "sentence      0\n",
            "label         0\n",
            "dtype: int64\n"
          ]
        },
        {
          "output_type": "display_data",
          "data": {
            "text/plain": [
              "<Figure size 640x480 with 1 Axes>"
            ],
            "image/png": "[encoded data removed]"
          },
          "metadata": {}
        }
      ]
    },
    {
      "cell_type": "markdown",
      "source": [
        "Analyzing the Sentence Length"
      ],
      "metadata": {
        "id": "Pi629YU60pTq"
      }
    },
    {
      "cell_type": "code",
      "source": [
        "# Add a column for sentence length\n",
        "df['sentence_length'] = df['sentence'].apply(len)\n",
        "\n",
        "# Display basic statistics for sentence length\n",
        "print(df['sentence_length'].describe())\n",
        "\n",
        "# Plot the distribution of sentence lengths\n",
        "plt.figure(figsize=(10, 6))\n",
        "sns.histplot(df['sentence_length'], bins=30, kde=True)\n",
        "plt.title('Distribution of Sentence Lengths')\n",
        "plt.xlabel('Sentence Length')\n",
        "plt.ylabel('Frequency')\n",
        "plt.show()\n"
      ],
      "metadata": {
        "colab": {
          "base_uri": "https://localhost:8080/",
          "height": 720
        },
        "id": "nYmFmIrp0wp0",
        "outputId": "5917c24b-b610-4bd8-d644-3b6c20029bfb"
      },
      "execution_count": 28,
      "outputs": [
        {
          "output_type": "stream",
          "name": "stdout",
          "text": [
            "count    1000.00000\n",
            "mean       58.31600\n",
            "std        32.36414\n",
            "min        11.00000\n",
            "25%        33.00000\n",
            "50%        51.00000\n",
            "75%        80.00000\n",
            "max       149.00000\n",
            "Name: sentence_length, dtype: float64\n"
          ]
        },
        {
          "output_type": "display_data",
          "data": {
            "text/plain": [
              "<Figure size 1000x600 with 1 Axes>"
            ],
            "image/png": "[encoded data removed]"
          },
          "metadata": {}
        }
      ]
    },
    {
      "cell_type": "markdown",
      "source": [
        "**DATA PREPROCESSING**"
      ],
      "metadata": {
        "id": "bes2dfwfE6ZE"
      }
    },
    {
      "cell_type": "markdown",
      "source": [
        "Removing Noise"
      ],
      "metadata": {
        "id": "sRSSUv75Fujr"
      }
    },
    {
      "cell_type": "code",
      "source": [
        "import re\n",
        "\n",
        "def remove_noise(text):\n",
        "    # Remove special characters and digits\n",
        "    text = re.sub(r'[^a-zA-Z\\s]', '', text)\n",
        "    return text\n",
        "\n",
        "# Apply noise removal to the 'sentence' column\n",
        "df['cleaned_sentence'] = df['sentence'].apply(remove_noise)\n"
      ],
      "metadata": {
        "id": "1KkmnuLYFr-r"
      },
      "execution_count": 29,
      "outputs": []
    },
    {
      "cell_type": "markdown",
      "source": [
        "Lowercase Conversion"
      ],
      "metadata": {
        "id": "Hai4ty5JFzXu"
      }
    },
    {
      "cell_type": "code",
      "source": [
        "df['cleaned_sentence'] = df['cleaned_sentence'].str.lower()\n"
      ],
      "metadata": {
        "id": "9LexQK5IF4TL"
      },
      "execution_count": 30,
      "outputs": []
    },
    {
      "cell_type": "markdown",
      "source": [
        "Tokenization"
      ],
      "metadata": {
        "id": "lBZntWR-F6rm"
      }
    },
    {
      "cell_type": "code",
      "source": [
        "import nltk\n",
        "nltk.download('punkt')\n",
        "from nltk.tokenize import word_tokenize\n",
        "\n",
        "# Tokenize sentences\n",
        "df['tokenized_sentence'] = df['cleaned_sentence'].apply(word_tokenize)\n"
      ],
      "metadata": {
        "colab": {
          "base_uri": "https://localhost:8080/"
        },
        "id": "0jEc8fKSF-FD",
        "outputId": "e2f0410d-3580-48d1-8856-7412b4b125ce"
      },
      "execution_count": 31,
      "outputs": [
        {
          "output_type": "stream",
          "name": "stderr",
          "text": [
            "[nltk_data] Downloading package punkt to /root/nltk_data...\n",
            "[nltk_data]   Package punkt is already up-to-date!\n"
          ]
        }
      ]
    },
    {
      "cell_type": "markdown",
      "source": [
        "Stemming"
      ],
      "metadata": {
        "id": "kjAXmH90GNq0"
      }
    },
    {
      "cell_type": "code",
      "source": [
        "from nltk.stem import PorterStemmer\n",
        "\n",
        "stemmer = PorterStemmer()\n",
        "\n",
        "# Apply stemming to each tokenized sentence\n",
        "df['stemmed_sentence'] = df['tokenized_sentence'].apply(lambda tokens: [stemmer.stem(token) for token in tokens])\n"
      ],
      "metadata": {
        "id": "0vX0J7x8GTa7"
      },
      "execution_count": 32,
      "outputs": []
    },
    {
      "cell_type": "markdown",
      "source": [
        "**FEATURE EXTRACTION**"
      ],
      "metadata": {
        "id": "PpRntS7bGV-J"
      }
    },
    {
      "cell_type": "markdown",
      "source": [
        "Load GloVe Embeddings"
      ],
      "metadata": {
        "id": "HGQtzU2-HgC4"
      }
    },
    {
      "cell_type": "code",
      "source": [
        "'''from gensim.models import KeyedVectors\n",
        "\n",
        "# Specify the path to GloVe embeddings file\n",
        "glove_path = 'glove.6B.100d.txt'\n",
        "\n",
        "# Load GloVe embeddings using appropriate method\n",
        "try:\n",
        "    word_vectors = KeyedVectors.load_word2vec_format(glove_path, binary=False)\n",
        "    print(\"GloVe embeddings loaded successfully!\")\n",
        "except ValueError as e:\n",
        "    print(f\"Error loading GloVe embeddings: {e}\")\n",
        "except FileNotFoundError:\n",
        "    print(f\"File '{glove_path}' not found. Please check the path and try again.\")\n",
        "'''"
      ],
      "metadata": {
        "id": "5Leby_NDHfQi",
        "colab": {
          "base_uri": "https://localhost:8080/",
          "height": 105
        },
        "outputId": "86dc0eff-8928-4633-e997-be82757e3914"
      },
      "execution_count": 33,
      "outputs": [
        {
          "output_type": "execute_result",
          "data": {
            "text/plain": [
              "'from gensim.models import KeyedVectors\\n\\n# Specify the path to GloVe embeddings file\\nglove_path = \\'glove.6B.100d.txt\\'\\n\\n# Load GloVe embeddings using appropriate method\\ntry:\\n    word_vectors = KeyedVectors.load_word2vec_format(glove_path, binary=False)\\n    print(\"GloVe embeddings loaded successfully!\")\\nexcept ValueError as e:\\n    print(f\"Error loading GloVe embeddings: {e}\")\\nexcept FileNotFoundError:\\n    print(f\"File \\'{glove_path}\\' not found. Please check the path and try again.\")\\n'"
            ],
            "application/vnd.google.colaboratory.intrinsic+json": {
              "type": "string"
            }
          },
          "metadata": {},
          "execution_count": 33
        }
      ]
    },
    {
      "cell_type": "markdown",
      "source": [
        "Convert Sentences to GloVe Embeddings"
      ],
      "metadata": {
        "id": "u21RUi5xIGgB"
      }
    },
    {
      "cell_type": "code",
      "source": [
        "'''\n",
        "import numpy as np\n",
        "\n",
        "def tokens_to_glove_embeddings(tokens):\n",
        "    embeddings = []\n",
        "    for token in tokens:\n",
        "        if token in word_vectors.vocab:\n",
        "            embeddings.append(word_vectors[token])\n",
        "        else:\n",
        "            # Handle out-of-vocabulary tokens (optional)\n",
        "            embeddings.append(np.random.normal(scale=0.6, size=(100,)))  # Replace with random initialization or zeros\n",
        "    return embeddings\n",
        "\n",
        "# Apply GloVe embeddings conversion to each tokenized sentence\n",
        "df['glove_embeddings'] = df['tokenized_sentence'].apply(tokens_to_glove_embeddings)\n",
        "\n",
        "print(df[['sentence', 'glove_embeddings']])\n",
        "'''"
      ],
      "metadata": {
        "id": "Vpap8oB2ILKr",
        "colab": {
          "base_uri": "https://localhost:8080/",
          "height": 105
        },
        "outputId": "3c2eeb16-ee72-45c6-ad79-5fd83a7a1556"
      },
      "execution_count": 34,
      "outputs": [
        {
          "output_type": "execute_result",
          "data": {
            "text/plain": [
              "\"\\nimport numpy as np\\n\\ndef tokens_to_glove_embeddings(tokens):\\n    embeddings = []\\n    for token in tokens:\\n        if token in word_vectors.vocab:\\n            embeddings.append(word_vectors[token])\\n        else:\\n            # Handle out-of-vocabulary tokens (optional)\\n            embeddings.append(np.random.normal(scale=0.6, size=(100,)))  # Replace with random initialization or zeros\\n    return embeddings\\n\\n# Apply GloVe embeddings conversion to each tokenized sentence\\ndf['glove_embeddings'] = df['tokenized_sentence'].apply(tokens_to_glove_embeddings)\\n\\nprint(df[['sentence', 'glove_embeddings']])\\n\""
            ],
            "application/vnd.google.colaboratory.intrinsic+json": {
              "type": "string"
            }
          },
          "metadata": {},
          "execution_count": 34
        }
      ]
    },
    {
      "cell_type": "markdown",
      "source": [
        "Load Word2Vec Embeddings"
      ],
      "metadata": {
        "id": "rxjKOJItINm6"
      }
    },
    {
      "cell_type": "code",
      "source": [
        "from gensim.models import KeyedVectors\n",
        "import gensim.downloader as api\n",
        "\n",
        "# Download the Word2Vec model\n",
        "word_vectors = api.load('word2vec-google-news-300')\n",
        "\n"
      ],
      "metadata": {
        "id": "g24aNrdlIRQ_"
      },
      "execution_count": 35,
      "outputs": []
    },
    {
      "cell_type": "markdown",
      "source": [
        " Convert Sentences to Word2Vec Embeddings"
      ],
      "metadata": {
        "id": "vpBTNizKIUPZ"
      }
    },
    {
      "cell_type": "code",
      "source": [
        "from gensim.models import KeyedVectors\n",
        "import numpy as np\n",
        "\n",
        "# Function to convert tokens to Word2Vec embeddings\n",
        "def tokens_to_word2vec_embeddings(tokens, word_vectors):\n",
        "    embeddings = []\n",
        "    for token in tokens:\n",
        "        if token in word_vectors.key_to_index:\n",
        "            embeddings.append(word_vectors.get_vector(token))\n",
        "        else:\n",
        "            # Handle out-of-vocabulary tokens (optional)\n",
        "            embeddings.append(np.zeros(word_vectors.vector_size))  # Replace with appropriate handling\n",
        "    return embeddings\n",
        "\n",
        "# Example usage after loading Word2Vec embeddings\n",
        "# Assuming word_vectors is already loaded from GoogleNews-vectors-negative300.bin.gz\n",
        "\n",
        "# Apply Word2Vec embeddings conversion to each tokenized sentence\n",
        "df['word2vec_embeddings'] = df['tokenized_sentence'].apply(lambda tokens: tokens_to_word2vec_embeddings(tokens, word_vectors))\n",
        "\n",
        "print(df[['sentence', 'word2vec_embeddings']])\n"
      ],
      "metadata": {
        "id": "kkNfjXF-IXSH",
        "colab": {
          "base_uri": "https://localhost:8080/"
        },
        "outputId": "3550d8c1-d4c5-4fca-8e52-88555b2fceed"
      },
      "execution_count": 36,
      "outputs": [
        {
          "output_type": "stream",
          "name": "stdout",
          "text": [
            "                                              sentence  \\\n",
            "0                             Wow... Loved this place.   \n",
            "1                                   Crust is not good.   \n",
            "2            Not tasty and the texture was just nasty.   \n",
            "3    Stopped by during the late May bank holiday of...   \n",
            "4    The selection on the menu was great and so wer...   \n",
            "..                                                 ...   \n",
            "995  I think food should have flavor and texture an...   \n",
            "996                           Appetite instantly gone.   \n",
            "997  Overall I was not impressed and would not go b...   \n",
            "998  The whole experience was underwhelming, and I ...   \n",
            "999  Then, as if I hadn't wasted enough of my life ...   \n",
            "\n",
            "                                   word2vec_embeddings  \n",
            "0    [[0.125, 0.018066406, 0.057617188, 0.002273559...  \n",
            "1    [[-0.37109375, 0.005493164, 0.06689453, 0.1699...  \n",
            "2    [[0.08496094, -0.095214844, 0.119140625, 0.111...  \n",
            "3    [[0.010986328, 0.05078125, 0.22265625, 0.02490...  \n",
            "4    [[0.080078125, 0.10498047, 0.049804688, 0.0534...  \n",
            "..                                                 ...  \n",
            "995  [[-0.22558594, -0.01953125, 0.09082031, 0.2373...  \n",
            "996  [[0.00289917, 0.30078125, -0.12597656, 0.06298...  \n",
            "997  [[-0.028686523, 0.28125, -0.051757812, -0.0432...  \n",
            "998  [[0.080078125, 0.10498047, 0.049804688, 0.0534...  \n",
            "999  [[0.044677734, -0.007232666, 0.115234375, 0.13...  \n",
            "\n",
            "[1000 rows x 2 columns]\n"
          ]
        }
      ]
    },
    {
      "cell_type": "markdown",
      "source": [
        "**MODEL SELECTION AND TRAINING**"
      ],
      "metadata": {
        "id": "Df5XwGloZews"
      }
    },
    {
      "cell_type": "markdown",
      "source": [
        "Split Data into Training and Testing Sets"
      ],
      "metadata": {
        "id": "sTsF9S0hZj0o"
      }
    },
    {
      "cell_type": "code",
      "source": [
        "from sklearn.model_selection import train_test_split\n",
        "\n",
        "# Assuming df['word2vec_embeddings'] contains the Word2Vec embeddings for each tokenized sentence\n",
        "X = df['word2vec_embeddings']\n",
        "y = df['label']\n",
        "\n",
        "# Split data into training and testing sets (80% train, 20% test)\n",
        "X_train, X_test, y_train, y_test = train_test_split(X, y, test_size=0.2, random_state=42)\n",
        "\n",
        "# Optionally, convert X_train and X_test from list of lists to numpy arrays\n",
        "import numpy as np\n",
        "X_train = np.array(X_train)\n",
        "X_test = np.array(X_test)\n",
        "\n",
        "print(f\"Training set size: {len(X_train)}\")\n",
        "print(f\"Testing set size: {len(X_test)}\")\n"
      ],
      "metadata": {
        "colab": {
          "base_uri": "https://localhost:8080/"
        },
        "id": "V9QVb9UuZxCw",
        "outputId": "c4bb8a55-5013-4154-961c-174bf3f9d0e9"
      },
      "execution_count": 37,
      "outputs": [
        {
          "output_type": "stream",
          "name": "stdout",
          "text": [
            "Training set size: 800\n",
            "Testing set size: 200\n"
          ]
        }
      ]
    },
    {
      "cell_type": "markdown",
      "source": [
        "CHOOSE CLASSIFICATION ALGORITHMS"
      ],
      "metadata": {
        "id": "Pq9OVB3UZ3Xr"
      }
    },
    {
      "cell_type": "markdown",
      "source": [
        "Logistic Regression"
      ],
      "metadata": {
        "id": "yXXJgaYEaS65"
      }
    },
    {
      "cell_type": "code",
      "source": [
        "import numpy as np\n",
        "\n",
        "# Function to aggregate Word2Vec embeddings (e.g., averaging)\n",
        "def aggregate_embeddings(embeddings):\n",
        "    if len(embeddings) == 0:\n",
        "        return np.zeros(300)  # Adjust size according to your Word2Vec embeddings\n",
        "    else:\n",
        "        return np.mean(embeddings, axis=0)\n",
        "\n",
        "# Example: Aggregate embeddings for X_train and X_test\n",
        "X_train_aggregated = np.array([aggregate_embeddings(embeddings) for embeddings in X_train])\n",
        "X_test_aggregated = np.array([aggregate_embeddings(embeddings) for embeddings in X_test])\n",
        "\n",
        "# Now X_train_aggregated and X_test_aggregated should be numpy arrays\n",
        "# with each element representing an aggregated vector for each sentence.\n",
        "\n",
        "# Initialize Logistic Regression model\n",
        "log_reg = LogisticRegression(max_iter=1000, random_state=42)\n",
        "\n",
        "# Train the model\n",
        "log_reg.fit(X_train_aggregated, y_train)\n",
        "\n",
        "# Predict on the test set\n",
        "y_pred = log_reg.predict(X_test_aggregated)\n",
        "\n",
        "# Evaluate model performance\n",
        "print(\"Logistic Regression Performance:\")\n",
        "print(f\"Accuracy: {accuracy_score(y_test, y_pred)}\")\n",
        "print(classification_report(y_test, y_pred))\n"
      ],
      "metadata": {
        "colab": {
          "base_uri": "https://localhost:8080/"
        },
        "id": "FXwvCW-VaJxF",
        "outputId": "13c55237-a175-4dc8-d17b-e4588ed7e19a"
      },
      "execution_count": 39,
      "outputs": [
        {
          "output_type": "stream",
          "name": "stdout",
          "text": [
            "Logistic Regression Performance:\n",
            "Accuracy: 0.78\n",
            "              precision    recall  f1-score   support\n",
            "\n",
            "           0       0.72      0.89      0.79        96\n",
            "           1       0.87      0.68      0.76       104\n",
            "\n",
            "    accuracy                           0.78       200\n",
            "   macro avg       0.79      0.78      0.78       200\n",
            "weighted avg       0.80      0.78      0.78       200\n",
            "\n"
          ]
        }
      ]
    },
    {
      "cell_type": "markdown",
      "source": [
        "Naive Bayes Classifier"
      ],
      "metadata": {
        "id": "tIF-oP_DaylU"
      }
    },
    {
      "cell_type": "code",
      "source": [
        "from sklearn.naive_bayes import GaussianNB\n",
        "import numpy as np\n",
        "\n",
        "# Initialize Naive Bayes model\n",
        "nb_model = GaussianNB()\n",
        "\n",
        "# Train the model (no need for aggregation with Naive Bayes)\n",
        "nb_model.fit(X_train_aggregated, y_train)\n",
        "\n",
        "# Predict on the test set\n",
        "y_pred_nb = nb_model.predict(X_test_aggregated)\n",
        "\n",
        "# Evaluate model performance\n",
        "print(\"Naive Bayes Performance:\")\n",
        "print(f\"Accuracy: {accuracy_score(y_test, y_pred_nb)}\")\n",
        "print(classification_report(y_test, y_pred_nb))\n"
      ],
      "metadata": {
        "colab": {
          "base_uri": "https://localhost:8080/"
        },
        "id": "N83R-0TRbSZ0",
        "outputId": "479561b4-93ea-459f-f6b4-3c6bd74aba99"
      },
      "execution_count": 42,
      "outputs": [
        {
          "output_type": "stream",
          "name": "stdout",
          "text": [
            "Naive Bayes Performance:\n",
            "Accuracy: 0.645\n",
            "              precision    recall  f1-score   support\n",
            "\n",
            "           0       0.60      0.76      0.67        96\n",
            "           1       0.71      0.54      0.61       104\n",
            "\n",
            "    accuracy                           0.65       200\n",
            "   macro avg       0.66      0.65      0.64       200\n",
            "weighted avg       0.66      0.65      0.64       200\n",
            "\n"
          ]
        }
      ]
    },
    {
      "cell_type": "markdown",
      "source": [
        "Random Forest Classifier"
      ],
      "metadata": {
        "id": "KTOfmDQ4bhoQ"
      }
    },
    {
      "cell_type": "code",
      "source": [
        "from sklearn.ensemble import RandomForestClassifier\n",
        "\n",
        "# Initialize Random Forest model\n",
        "rf_model = RandomForestClassifier(random_state=42)\n",
        "\n",
        "# Train the model\n",
        "rf_model.fit(X_train_aggregated, y_train)\n",
        "\n",
        "# Predict on the test set\n",
        "y_pred_rf = rf_model.predict(X_test_aggregated)\n",
        "\n",
        "# Evaluate model performance\n",
        "print(\"Random Forest Performance:\")\n",
        "print(f\"Accuracy: {accuracy_score(y_test, y_pred_rf)}\")\n",
        "print(classification_report(y_test, y_pred_rf))\n"
      ],
      "metadata": {
        "colab": {
          "base_uri": "https://localhost:8080/"
        },
        "id": "ux0rWMiRbvcq",
        "outputId": "e65ab5b5-991e-4e1f-a8d8-8b5591f318cb"
      },
      "execution_count": 43,
      "outputs": [
        {
          "output_type": "stream",
          "name": "stdout",
          "text": [
            "Random Forest Performance:\n",
            "Accuracy: 0.76\n",
            "              precision    recall  f1-score   support\n",
            "\n",
            "           0       0.73      0.80      0.76        96\n",
            "           1       0.80      0.72      0.76       104\n",
            "\n",
            "    accuracy                           0.76       200\n",
            "   macro avg       0.76      0.76      0.76       200\n",
            "weighted avg       0.76      0.76      0.76       200\n",
            "\n"
          ]
        }
      ]
    },
    {
      "cell_type": "markdown",
      "source": [
        "Support Vector Machine Classifier"
      ],
      "metadata": {
        "id": "1YKidnN6byNS"
      }
    },
    {
      "cell_type": "code",
      "source": [
        "from sklearn.svm import SVC\n",
        "\n",
        "# Initialize SVM model with linear kernel\n",
        "svm_model = SVC(kernel='linear', random_state=42)\n",
        "\n",
        "# Train the model\n",
        "svm_model.fit(X_train_aggregated, y_train)\n",
        "\n",
        "# Predict on the test set\n",
        "y_pred_svm = svm_model.predict(X_test_aggregated)\n",
        "\n",
        "# Evaluate model performance\n",
        "print(\"SVM Performance:\")\n",
        "print(f\"Accuracy: {accuracy_score(y_test, y_pred_svm)}\")\n",
        "print(classification_report(y_test, y_pred_svm))\n"
      ],
      "metadata": {
        "colab": {
          "base_uri": "https://localhost:8080/"
        },
        "id": "CbBuc2OLb1u-",
        "outputId": "1f94c57e-fa0c-41d0-af7a-10ca334567b5"
      },
      "execution_count": 44,
      "outputs": [
        {
          "output_type": "stream",
          "name": "stdout",
          "text": [
            "SVM Performance:\n",
            "Accuracy: 0.78\n",
            "              precision    recall  f1-score   support\n",
            "\n",
            "           0       0.72      0.90      0.80        96\n",
            "           1       0.88      0.67      0.76       104\n",
            "\n",
            "    accuracy                           0.78       200\n",
            "   macro avg       0.80      0.78      0.78       200\n",
            "weighted avg       0.80      0.78      0.78       200\n",
            "\n"
          ]
        }
      ]
    },
    {
      "cell_type": "markdown",
      "source": [
        "XGBoost Classifier"
      ],
      "metadata": {
        "id": "PmZQlG5gcRFp"
      }
    },
    {
      "cell_type": "code",
      "source": [
        "import xgboost as xgb\n",
        "\n",
        "# Initialize XGBoost model\n",
        "xgb_model = xgb.XGBClassifier(random_state=42)\n",
        "\n",
        "# Train the model\n",
        "xgb_model.fit(X_train_aggregated, y_train)\n",
        "\n",
        "# Predict on the test set\n",
        "y_pred_xgb = xgb_model.predict(X_test_aggregated)\n",
        "\n",
        "# Evaluate model performance\n",
        "print(\"XGBoost Performance:\")\n",
        "print(f\"Accuracy: {accuracy_score(y_test, y_pred_xgb)}\")\n",
        "print(classification_report(y_test, y_pred_xgb))\n"
      ],
      "metadata": {
        "colab": {
          "base_uri": "https://localhost:8080/"
        },
        "id": "G0XVV9TPcTYb",
        "outputId": "2a0e6fe5-d29e-4625-b124-b19ee488d11d"
      },
      "execution_count": 45,
      "outputs": [
        {
          "output_type": "stream",
          "name": "stdout",
          "text": [
            "XGBoost Performance:\n",
            "Accuracy: 0.785\n",
            "              precision    recall  f1-score   support\n",
            "\n",
            "           0       0.75      0.82      0.79        96\n",
            "           1       0.82      0.75      0.78       104\n",
            "\n",
            "    accuracy                           0.79       200\n",
            "   macro avg       0.79      0.79      0.78       200\n",
            "weighted avg       0.79      0.79      0.78       200\n",
            "\n"
          ]
        }
      ]
    },
    {
      "cell_type": "markdown",
      "source": [
        "KNN Classifier"
      ],
      "metadata": {
        "id": "FFIp9bEkcbHR"
      }
    },
    {
      "cell_type": "code",
      "source": [
        "from sklearn.neighbors import KNeighborsClassifier\n",
        "\n",
        "# Initialize KNN model\n",
        "knn_model = KNeighborsClassifier()\n",
        "\n",
        "# Train the model\n",
        "knn_model.fit(X_train_aggregated, y_train)\n",
        "\n",
        "# Predict on the test set\n",
        "y_pred_knn = knn_model.predict(X_test_aggregated)\n",
        "\n",
        "# Evaluate model performance\n",
        "print(\"K-Nearest Neighbors (KNN) Performance:\")\n",
        "print(f\"Accuracy: {accuracy_score(y_test, y_pred_knn)}\")\n",
        "print(classification_report(y_test, y_pred_knn))\n"
      ],
      "metadata": {
        "colab": {
          "base_uri": "https://localhost:8080/"
        },
        "id": "iNnOkfaKcef9",
        "outputId": "56df21e4-7724-454c-b5ac-ce9c1f057569"
      },
      "execution_count": 46,
      "outputs": [
        {
          "output_type": "stream",
          "name": "stdout",
          "text": [
            "K-Nearest Neighbors (KNN) Performance:\n",
            "Accuracy: 0.685\n",
            "              precision    recall  f1-score   support\n",
            "\n",
            "           0       0.64      0.78      0.70        96\n",
            "           1       0.75      0.60      0.66       104\n",
            "\n",
            "    accuracy                           0.69       200\n",
            "   macro avg       0.69      0.69      0.68       200\n",
            "weighted avg       0.70      0.69      0.68       200\n",
            "\n"
          ]
        }
      ]
    },
    {
      "cell_type": "markdown",
      "source": [
        "Decision Tree Classifier"
      ],
      "metadata": {
        "id": "3K_ElHa4cgWL"
      }
    },
    {
      "cell_type": "code",
      "source": [
        "from sklearn.tree import DecisionTreeClassifier\n",
        "\n",
        "# Initialize Decision Tree model\n",
        "dt_model = DecisionTreeClassifier(random_state=42)\n",
        "\n",
        "# Train the model\n",
        "dt_model.fit(X_train_aggregated, y_train)\n",
        "\n",
        "# Predict on the test set\n",
        "y_pred_dt = dt_model.predict(X_test_aggregated)\n",
        "\n",
        "# Evaluate model performance\n",
        "print(\"Decision Tree Performance:\")\n",
        "print(f\"Accuracy: {accuracy_score(y_test, y_pred_dt)}\")\n",
        "print(classification_report(y_test, y_pred_dt))\n"
      ],
      "metadata": {
        "colab": {
          "base_uri": "https://localhost:8080/"
        },
        "id": "ZUlOmMnpclws",
        "outputId": "b712f6b2-ef0f-457e-b53a-7f13a1430daf"
      },
      "execution_count": 47,
      "outputs": [
        {
          "output_type": "stream",
          "name": "stdout",
          "text": [
            "Decision Tree Performance:\n",
            "Accuracy: 0.655\n",
            "              precision    recall  f1-score   support\n",
            "\n",
            "           0       0.62      0.71      0.66        96\n",
            "           1       0.69      0.61      0.65       104\n",
            "\n",
            "    accuracy                           0.66       200\n",
            "   macro avg       0.66      0.66      0.65       200\n",
            "weighted avg       0.66      0.66      0.65       200\n",
            "\n"
          ]
        }
      ]
    },
    {
      "cell_type": "markdown",
      "source": [
        "Gradient Boosting Machines"
      ],
      "metadata": {
        "id": "QaoHTsoScou_"
      }
    },
    {
      "cell_type": "code",
      "source": [
        "from sklearn.ensemble import GradientBoostingClassifier\n",
        "\n",
        "# Initialize Gradient Boosting model\n",
        "gbm_model = GradientBoostingClassifier(random_state=42)\n",
        "\n",
        "# Train the model\n",
        "gbm_model.fit(X_train_aggregated, y_train)\n",
        "\n",
        "# Predict on the test set\n",
        "y_pred_gbm = gbm_model.predict(X_test_aggregated)\n",
        "\n",
        "# Evaluate model performance\n",
        "print(\"Gradient Boosting Machine (GBM) Performance:\")\n",
        "print(f\"Accuracy: {accuracy_score(y_test, y_pred_gbm)}\")\n",
        "print(classification_report(y_test, y_pred_gbm))\n"
      ],
      "metadata": {
        "colab": {
          "base_uri": "https://localhost:8080/"
        },
        "id": "72XbblNxcsSi",
        "outputId": "2831afab-094a-4667-dc34-493589093d0b"
      },
      "execution_count": 48,
      "outputs": [
        {
          "output_type": "stream",
          "name": "stdout",
          "text": [
            "Gradient Boosting Machine (GBM) Performance:\n",
            "Accuracy: 0.79\n",
            "              precision    recall  f1-score   support\n",
            "\n",
            "           0       0.75      0.84      0.79        96\n",
            "           1       0.84      0.74      0.79       104\n",
            "\n",
            "    accuracy                           0.79       200\n",
            "   macro avg       0.79      0.79      0.79       200\n",
            "weighted avg       0.80      0.79      0.79       200\n",
            "\n"
          ]
        }
      ]
    },
    {
      "cell_type": "markdown",
      "source": [
        "Neural Networks"
      ],
      "metadata": {
        "id": "QxQo-UBmcwdl"
      }
    },
    {
      "cell_type": "code",
      "source": [
        "from sklearn.neural_network import MLPClassifier\n",
        "\n",
        "# Initialize MLP model\n",
        "mlp_model = MLPClassifier(random_state=42)\n",
        "\n",
        "# Train the model\n",
        "mlp_model.fit(X_train_aggregated, y_train)\n",
        "\n",
        "# Predict on the test set\n",
        "y_pred_mlp = mlp_model.predict(X_test_aggregated)\n",
        "\n",
        "# Evaluate model performance\n",
        "print(\"Multilayer Perceptron (MLP) Performance:\")\n",
        "print(f\"Accuracy: {accuracy_score(y_test, y_pred_mlp)}\")\n",
        "print(classification_report(y_test, y_pred_mlp))\n"
      ],
      "metadata": {
        "colab": {
          "base_uri": "https://localhost:8080/"
        },
        "id": "hJn4QOHYczVF",
        "outputId": "f969e424-1d76-4a10-b308-0acf969ac79f"
      },
      "execution_count": 49,
      "outputs": [
        {
          "output_type": "stream",
          "name": "stdout",
          "text": [
            "Multilayer Perceptron (MLP) Performance:\n",
            "Accuracy: 0.83\n",
            "              precision    recall  f1-score   support\n",
            "\n",
            "           0       0.80      0.86      0.83        96\n",
            "           1       0.86      0.80      0.83       104\n",
            "\n",
            "    accuracy                           0.83       200\n",
            "   macro avg       0.83      0.83      0.83       200\n",
            "weighted avg       0.83      0.83      0.83       200\n",
            "\n"
          ]
        },
        {
          "output_type": "stream",
          "name": "stderr",
          "text": [
            "/usr/local/lib/python3.10/dist-packages/sklearn/neural_network/_multilayer_perceptron.py:686: ConvergenceWarning: Stochastic Optimizer: Maximum iterations (200) reached and the optimization hasn't converged yet.\n",
            "  warnings.warn(\n"
          ]
        }
      ]
    },
    {
      "cell_type": "markdown",
      "source": [
        "MODEL OPTIMIZATION\n"
      ],
      "metadata": {
        "id": "HwmDGbrCdWon"
      }
    },
    {
      "cell_type": "code",
      "source": [
        "from sklearn.neural_network import MLPClassifier\n",
        "from sklearn.preprocessing import StandardScaler\n",
        "\n",
        "# Scale features\n",
        "scaler = StandardScaler()\n",
        "X_train_scaled = scaler.fit_transform(X_train_aggregated)\n",
        "X_test_scaled = scaler.transform(X_test_aggregated)\n",
        "\n",
        "# Initialize MLP model with adjusted parameters\n",
        "mlp_model = MLPClassifier(hidden_layer_sizes=(100, 50), alpha=0.001, random_state=42)\n",
        "\n",
        "# Train the model\n",
        "mlp_model.fit(X_train_scaled, y_train)\n",
        "\n",
        "# Predict on the test set\n",
        "y_pred_mlp = mlp_model.predict(X_test_scaled)\n",
        "\n",
        "# Evaluate model performance\n",
        "print(\"Multilayer Perceptron (MLP) Performance:\")\n",
        "print(f\"Accuracy: {accuracy_score(y_test, y_pred_mlp)}\")\n",
        "print(classification_report(y_test, y_pred_mlp))\n"
      ],
      "metadata": {
        "colab": {
          "base_uri": "https://localhost:8080/"
        },
        "id": "pNKG9ox2dZm5",
        "outputId": "591cf6b4-d14a-40d5-8dd9-bce32335e840"
      },
      "execution_count": 51,
      "outputs": [
        {
          "output_type": "stream",
          "name": "stdout",
          "text": [
            "Multilayer Perceptron (MLP) Performance:\n",
            "Accuracy: 0.82\n",
            "              precision    recall  f1-score   support\n",
            "\n",
            "           0       0.79      0.85      0.82        96\n",
            "           1       0.85      0.79      0.82       104\n",
            "\n",
            "    accuracy                           0.82       200\n",
            "   macro avg       0.82      0.82      0.82       200\n",
            "weighted avg       0.82      0.82      0.82       200\n",
            "\n"
          ]
        }
      ]
    },
    {
      "cell_type": "code",
      "source": [
        "from sklearn.neural_network import MLPClassifier\n",
        "from sklearn.model_selection import GridSearchCV\n",
        "\n",
        "param_grid = {\n",
        "    'hidden_layer_sizes': [(100,), (100, 50), (50, 25)],\n",
        "    'alpha': [0.0001, 0.001, 0.01],\n",
        "    'learning_rate_init': [0.001, 0.01, 0.1]\n",
        "}\n",
        "\n",
        "grid_search = GridSearchCV(MLPClassifier(random_state=42, max_iter=500), param_grid, cv=3)\n",
        "grid_search.fit(X_train_aggregated, y_train)\n",
        "\n",
        "print(\"Best parameters found:\")\n",
        "print(grid_search.best_params_)\n",
        "\n",
        "# Evaluate best model\n",
        "best_model = grid_search.best_estimator_\n",
        "y_pred_best = best_model.predict(X_test_aggregated)\n",
        "\n",
        "print(\"Best MLP Classifier Performance:\")\n",
        "print(f\"Accuracy: {accuracy_score(y_test, y_pred_best)}\")\n",
        "print(classification_report(y_test, y_pred_best))\n"
      ],
      "metadata": {
        "colab": {
          "base_uri": "https://localhost:8080/"
        },
        "id": "fYYTYr9BdyRI",
        "outputId": "6af61cc1-27c2-4ca3-80c5-b7233ca3abda"
      },
      "execution_count": 52,
      "outputs": [
        {
          "output_type": "stream",
          "name": "stderr",
          "text": [
            "/usr/local/lib/python3.10/dist-packages/sklearn/neural_network/_multilayer_perceptron.py:686: ConvergenceWarning: Stochastic Optimizer: Maximum iterations (500) reached and the optimization hasn't converged yet.\n",
            "  warnings.warn(\n",
            "/usr/local/lib/python3.10/dist-packages/sklearn/neural_network/_multilayer_perceptron.py:686: ConvergenceWarning: Stochastic Optimizer: Maximum iterations (500) reached and the optimization hasn't converged yet.\n",
            "  warnings.warn(\n",
            "/usr/local/lib/python3.10/dist-packages/sklearn/neural_network/_multilayer_perceptron.py:686: ConvergenceWarning: Stochastic Optimizer: Maximum iterations (500) reached and the optimization hasn't converged yet.\n",
            "  warnings.warn(\n",
            "/usr/local/lib/python3.10/dist-packages/sklearn/neural_network/_multilayer_perceptron.py:686: ConvergenceWarning: Stochastic Optimizer: Maximum iterations (500) reached and the optimization hasn't converged yet.\n",
            "  warnings.warn(\n",
            "/usr/local/lib/python3.10/dist-packages/sklearn/neural_network/_multilayer_perceptron.py:686: ConvergenceWarning: Stochastic Optimizer: Maximum iterations (500) reached and the optimization hasn't converged yet.\n",
            "  warnings.warn(\n",
            "/usr/local/lib/python3.10/dist-packages/sklearn/neural_network/_multilayer_perceptron.py:686: ConvergenceWarning: Stochastic Optimizer: Maximum iterations (500) reached and the optimization hasn't converged yet.\n",
            "  warnings.warn(\n",
            "/usr/local/lib/python3.10/dist-packages/sklearn/neural_network/_multilayer_perceptron.py:686: ConvergenceWarning: Stochastic Optimizer: Maximum iterations (500) reached and the optimization hasn't converged yet.\n",
            "  warnings.warn(\n",
            "/usr/local/lib/python3.10/dist-packages/sklearn/neural_network/_multilayer_perceptron.py:686: ConvergenceWarning: Stochastic Optimizer: Maximum iterations (500) reached and the optimization hasn't converged yet.\n",
            "  warnings.warn(\n",
            "/usr/local/lib/python3.10/dist-packages/sklearn/neural_network/_multilayer_perceptron.py:686: ConvergenceWarning: Stochastic Optimizer: Maximum iterations (500) reached and the optimization hasn't converged yet.\n",
            "  warnings.warn(\n"
          ]
        },
        {
          "output_type": "stream",
          "name": "stdout",
          "text": [
            "Best parameters found:\n",
            "{'alpha': 0.001, 'hidden_layer_sizes': (100,), 'learning_rate_init': 0.1}\n",
            "Best MLP Classifier Performance:\n",
            "Accuracy: 0.845\n",
            "              precision    recall  f1-score   support\n",
            "\n",
            "           0       0.82      0.86      0.84        96\n",
            "           1       0.87      0.83      0.85       104\n",
            "\n",
            "    accuracy                           0.84       200\n",
            "   macro avg       0.85      0.85      0.84       200\n",
            "weighted avg       0.85      0.84      0.85       200\n",
            "\n"
          ]
        }
      ]
    }
  ]
}